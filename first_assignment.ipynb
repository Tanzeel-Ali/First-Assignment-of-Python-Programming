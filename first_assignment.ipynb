{
 "cells": [
  {
   "cell_type": "code",
   "execution_count": 14,
   "metadata": {},
   "outputs": [
    {
     "name": "stdout",
     "output_type": "stream",
     "text": [
      "Twinkle, twinkle, little star,\n",
      "    How I wonder what you are!\n",
      "          Up above the world so high,\n",
      "          Like a diamond in the sky.\n",
      "Twinkle, twinkle, little star\n",
      "       How I wonder what you ar\n"
     ]
    }
   ],
   "source": [
    "line_1= \"Twinkle, twinkle, little star,\"\n",
    "line_2 = \"\\n    How I wonder what you are!\"\n",
    "line_3 =\"\\n          Up above the world so high,\"\n",
    "line_4 =\"\\n          Like a diamond in the sky.\"\n",
    "line_5 =\"\\nTwinkle, twinkle, little star\"\n",
    "line_6 =\"\\n       How I wonder what you ar\"\n",
    "peom= line_1 + line_2 + line_3 + line_4 + line_5 + line_6\n",
    "print (peom)"
   ]
  },
  {
   "cell_type": "code",
   "execution_count": 22,
   "metadata": {},
   "outputs": [
    {
     "name": "stdout",
     "output_type": "stream",
     "text": [
      "Python version\n",
      "3.7.4 (default, Aug  9 2019, 18:34:13) [MSC v.1915 64 bit (AMD64)]\n",
      "Version info.\n",
      "sys.version_info(major=3, minor=7, micro=4, releaselevel='final', serial=0)\n"
     ]
    }
   ],
   "source": [
    "import sys\n",
    "print(\"Python version\")\n",
    "print (sys.version)\n",
    "print(\"Version info.\")\n",
    "print (sys.version_info)\n"
   ]
  },
  {
   "cell_type": "code",
   "execution_count": 35,
   "metadata": {},
   "outputs": [
    {
     "name": "stdout",
     "output_type": "stream",
     "text": [
      "now = 2019-11-02 23:31:13.408856\n",
      "Date and Time = 02/11/2019 23:31:13\n"
     ]
    }
   ],
   "source": [
    "# Here, we have used datetime.now() to get current date and time. \n",
    "# Then, we used strftime() method to create a string representing date and time in another format.\n",
    "\n",
    "\n",
    "from datetime import datetime\n",
    "\n",
    "now = datetime.now()\n",
    "\n",
    "print(\"now =\", now)\n",
    "\n",
    "dt_string = now.strftime(\"%d/%m/%Y %H:%M:%S\")\n",
    "\n",
    "print(\"Date and Time =\", dt_string)\n"
   ]
  },
  {
   "cell_type": "code",
   "execution_count": 38,
   "metadata": {},
   "outputs": [
    {
     "name": "stdout",
     "output_type": "stream",
     "text": [
      "Input the radius of the circle: 30\n",
      "The area of the circle with radius 30.0 is: 2827.4333882308138\n"
     ]
    }
   ],
   "source": [
    "import math\n",
    "radius = float(input(\"Input the radius of the circle: \"))\n",
    "area = math.pi * radius ** 2\n",
    "print(\"The area of the circle with radius \"+str(radius)+\" is: \"+str(area))"
   ]
  },
  {
   "cell_type": "code",
   "execution_count": null,
   "metadata": {},
   "outputs": [],
   "source": [
    "fname= input(\"Input your first name\")\n",
    "lname = input(\"Input your last name\")\n",
    "print ( lname + \" \" + fname)"
   ]
  },
  {
   "cell_type": "code",
   "execution_count": 1,
   "metadata": {},
   "outputs": [
    {
     "name": "stdout",
     "output_type": "stream",
     "text": [
      "enter first number: 10\n",
      "enter second number: 10\n",
      "20\n"
     ]
    }
   ],
   "source": [
    "num1 = int(input(\"enter first number: \"))\n",
    "num2 = int(input(\"enter second number: \"))\n",
    "\n",
    "sum = (num1 +num2)\n",
    "print (sum)"
   ]
  },
  {
   "cell_type": "code",
   "execution_count": null,
   "metadata": {},
   "outputs": [],
   "source": []
  }
 ],
 "metadata": {
  "kernelspec": {
   "display_name": "Python 3",
   "language": "python",
   "name": "python3"
  },
  "language_info": {
   "codemirror_mode": {
    "name": "ipython",
    "version": 3
   },
   "file_extension": ".py",
   "mimetype": "text/x-python",
   "name": "python",
   "nbconvert_exporter": "python",
   "pygments_lexer": "ipython3",
   "version": "3.7.4"
  }
 },
 "nbformat": 4,
 "nbformat_minor": 2
}
